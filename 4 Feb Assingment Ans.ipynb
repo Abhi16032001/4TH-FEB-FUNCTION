{
 "cells": [
  {
   "cell_type": "code",
   "execution_count": 1,
   "id": "539ae55f-7af2-4a0e-93eb-7e267fc2b568",
   "metadata": {},
   "outputs": [
    {
     "name": "stdout",
     "output_type": "stream",
     "text": [
      "[('Virat Kohli', 24936), ('Jack Kallis', 25534), ('Ricky Ponting', 27483), ('Sachin Tendulkar', 34357)]\n"
     ]
    }
   ],
   "source": [
    "# Q1. Create a python program to sort the given list of tuples based on integer value using a\n",
    "#     lambda function.\n",
    "#     [('Sachin Tendulkar', 34357), ('Ricky Ponting', 27483), ('Jack Kallis', 25534), ('Virat Kohli', 24936)]\n",
    "\n",
    "# Ans:\n",
    "\n",
    "l = [('Sachin Tendulkar', 34357), ('Ricky Ponting', 27483), ('Jack Kallis', 25534), ('Virat Kohli', 24936)]\n",
    "l.sort(key = lambda x : x[1])\n",
    "print(l)"
   ]
  },
  {
   "cell_type": "code",
   "execution_count": 2,
   "id": "abd2a58d-37d4-4fca-bd1b-7e4d2300b2dd",
   "metadata": {},
   "outputs": [
    {
     "name": "stdout",
     "output_type": "stream",
     "text": [
      "Given string :  [1, 2, 3, 4, 5, 6, 7, 8, 9, 10] \n",
      "\n",
      "The square of all the numbers in a given list is:\n",
      " [1, 4, 9, 16, 25, 36, 49, 64, 81, 100]\n"
     ]
    }
   ],
   "source": [
    "# Q2. Write a Python Program to find the squares of all the numbers in the given list of integers using\n",
    "#    lambda and map functions.\n",
    "#     [1,2,3,4,5,6,7,8,9,10]\n",
    "\n",
    "# Ans:  \n",
    "l = [1,2,3,4,5,6,7,8,9,10]\n",
    "print(\"Given string : \", l ,\"\\n\")\n",
    "\n",
    "l1 = list(map(lambda x: x**2, l))\n",
    "print(\"The square of all the numbers in a given list is:\\n\",l1)"
   ]
  },
  {
   "cell_type": "code",
   "execution_count": 3,
   "id": "df9bc9b5-db3b-413f-a14c-e0979e03db13",
   "metadata": {},
   "outputs": [
    {
     "name": "stdout",
     "output_type": "stream",
     "text": [
      "Given list : [1, 2, 3, 4, 5, 6, 7, 8, 9, 10]\n",
      "\n",
      "tuple of strings is : ('1', '2', '3', '4', '5', '6', '7', '8', '9', '10')\n"
     ]
    }
   ],
   "source": [
    "# Q3.  Write a python program to convert the given list of integers into a tuple of strings. Use map and\n",
    "#      lambda functions\n",
    "#      Given String: [1, 2, 3, 4, 5, 6, 7, 8, 9, 10]\n",
    "#      Expected output: ('1', '2', '3', '4', '5', '6', '7', '8', '9', '10')\n",
    "\n",
    "# Ans:\n",
    "l = [1, 2, 3, 4, 5, 6, 7, 8, 9, 10]\n",
    "print(f\"Given list : {l}\\n\")\n",
    "l1 = tuple(map(lambda x: str(x), l))\n",
    "print(f\"tuple of strings is : {l1}\")"
   ]
  },
  {
   "cell_type": "code",
   "execution_count": 4,
   "id": "c3bac37f-b5a1-45d6-8e16-17b6fd68f292",
   "metadata": {},
   "outputs": [
    {
     "name": "stdout",
     "output_type": "stream",
     "text": [
      "[1, 2, 3, 4, 5, 6, 7, 8, 9, 10, 11, 12, 13, 14, 15, 16, 17, 18, 19, 20, 21, 22, 23, 24, 25]\n",
      "The product of all numbers from 1 to 25 is :15511210043330985984000000\n"
     ]
    }
   ],
   "source": [
    "# Q4. Write a python program using reduce function to compute the product of a list containing numbers\n",
    "#     from 1 to 25.\n",
    "\n",
    "# Ans:\n",
    "from functools import reduce\n",
    "l = [i for i in range(1,26)]\n",
    "print(l)\n",
    "l1 = reduce(lambda x,y: x*y, l)\n",
    "print(f\"The product of all numbers from 1 to 25 is :{l1}\")"
   ]
  },
  {
   "cell_type": "code",
   "execution_count": 5,
   "id": "13b8122c-f2b9-4774-9797-f1bf1a8dfd90",
   "metadata": {},
   "outputs": [
    {
     "name": "stdout",
     "output_type": "stream",
     "text": [
      "the Number divisble by 2 and 3 is: [6, 60, 90, 120]\n"
     ]
    }
   ],
   "source": [
    "# Q5. Write a python program to filter the numbers in a given list that are divisible by 2 and 3 using the\n",
    "#     filter function.\n",
    "# [2, 3, 6, 9, 27, 60, 90, 120, 55, 46]\n",
    "\n",
    "# Ans:\n",
    "\n",
    "l =  [2, 3, 6, 9, 27, 60, 90, 120, 55, 46]\n",
    "l1 = list(filter(lambda x: x%2== 0 and x%3==0, l))\n",
    "print(f\"the Number divisble by 2 and 3 is: {l1}\")"
   ]
  },
  {
   "cell_type": "code",
   "execution_count": 6,
   "id": "4a8843f6-a693-4846-ac1e-7f72355be196",
   "metadata": {},
   "outputs": [
    {
     "name": "stdout",
     "output_type": "stream",
     "text": [
      "Mathod 1\n",
      "\n",
      "Given list : ['python', 'php', 'aba', 'radar', 'level', 'nitin']\n",
      "\n",
      "palindromes in the given list is : ['php', 'aba', 'radar', 'level', 'nitin']\n",
      "\n",
      "Mathod 2\n",
      "\n",
      "Given list : ['python', 'php', 'aba', 'radar', 'level']\n",
      "\n",
      "palindromes in the given list is : ['php', 'aba', 'radar', 'level']\n"
     ]
    }
   ],
   "source": [
    "# Q6. Write a python program to find palindromes in the given list of strings using lambda and filter\n",
    "#    function.\n",
    "#    ['python', 'php', 'aba', 'radar', 'level']\n",
    "\n",
    "# Ans:\n",
    "print(\"Mathod 1\\n\")\n",
    "\n",
    "l = ['python', 'php', 'aba', 'radar', 'level', 'nitin' ]\n",
    "print(f\"Given list : {l}\\n\")\n",
    "\n",
    "l1 = list(filter(lambda x: (x == x[::-1]), l))\n",
    "print(f\"palindromes in the given list is : {l1}\")\n",
    "\n",
    "\n",
    "\n",
    "print(\"\\nMathod 2\\n\")\n",
    "\n",
    "l = ['python', 'php', 'aba', 'radar', 'level', ]\n",
    "print(f\"Given list : {l}\\n\")\n",
    "\n",
    "l1 = list(filter(lambda x: (x == ''.join(reversed(x))), l))\n",
    "print(f\"palindromes in the given list is : {l1}\")"
   ]
  },
  {
   "cell_type": "code",
   "execution_count": null,
   "id": "7bc17354-cb9d-4f63-8423-b9592499ea16",
   "metadata": {},
   "outputs": [],
   "source": []
  }
 ],
 "metadata": {
  "kernelspec": {
   "display_name": "Python 3 (ipykernel)",
   "language": "python",
   "name": "python3"
  },
  "language_info": {
   "codemirror_mode": {
    "name": "ipython",
    "version": 3
   },
   "file_extension": ".py",
   "mimetype": "text/x-python",
   "name": "python",
   "nbconvert_exporter": "python",
   "pygments_lexer": "ipython3",
   "version": "3.10.8"
  }
 },
 "nbformat": 4,
 "nbformat_minor": 5
}
